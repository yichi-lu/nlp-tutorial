{
 "cells": [
  {
   "cell_type": "markdown",
   "id": "84571e75-2f2d-44b5-b627-9eaa593e6145",
   "metadata": {},
   "source": [
    "[Building A Neural Network](https://pytorch.org/tutorials/beginner/basics/buildmodel_tutorial.html)"
   ]
  },
  {
   "cell_type": "code",
   "execution_count": 1,
   "id": "549d90a1-4688-4c5e-b2a3-19bd2c3dc464",
   "metadata": {},
   "outputs": [],
   "source": [
    "import os\n",
    "import torch\n",
    "from torch import nn\n",
    "from torch.utils.data import DataLoader\n",
    "from torchvision import datasets, transforms"
   ]
  },
  {
   "cell_type": "code",
   "execution_count": 2,
   "id": "ff9fe466-cb45-4ca8-b561-4353f911686c",
   "metadata": {},
   "outputs": [
    {
     "name": "stdout",
     "output_type": "stream",
     "text": [
      "Using cpu device\n"
     ]
    }
   ],
   "source": [
    "# GPU is called accelerator\n",
    "device = torch.accelerator.current_accelerator().type if torch.accelerator.is_available() else \"cpu\"\n",
    "print(f\"Using {device} device\")"
   ]
  },
  {
   "cell_type": "code",
   "execution_count": 3,
   "id": "b4bbd0fc-c4d7-42a6-957f-5c2612490fa4",
   "metadata": {},
   "outputs": [],
   "source": [
    "# NN derived from nn.Module\n",
    "class NeuralNetwork(nn.Module):\n",
    "    def __init__(self):\n",
    "        super().__init__()\n",
    "        self.flatten = nn.Flatten()\n",
    "        self.linear_relu_stack = nn.Sequential(\n",
    "            nn.Linear(28 * 28, 512),\n",
    "            nn.ReLU(),\n",
    "            nn.Linear(512, 512),\n",
    "            nn.ReLU(),\n",
    "            nn.Linear(512, 10),\n",
    "        )\n",
    "\n",
    "    def forward(self, x):\n",
    "        x = self.flatten(x)\n",
    "        logits = self.linear_relu_stack(x)  # always call the method defined in __init__()\n",
    "        return logits"
   ]
  },
  {
   "cell_type": "code",
   "execution_count": 4,
   "id": "af259c38-9489-44a9-bdfd-20cc47549da8",
   "metadata": {},
   "outputs": [
    {
     "name": "stdout",
     "output_type": "stream",
     "text": [
      "NeuralNetwork(\n",
      "  (flatten): Flatten(start_dim=1, end_dim=-1)\n",
      "  (linear_relu_stack): Sequential(\n",
      "    (0): Linear(in_features=784, out_features=512, bias=True)\n",
      "    (1): ReLU()\n",
      "    (2): Linear(in_features=512, out_features=512, bias=True)\n",
      "    (3): ReLU()\n",
      "    (4): Linear(in_features=512, out_features=10, bias=True)\n",
      "  )\n",
      ")\n"
     ]
    }
   ],
   "source": [
    "# instantiate a momdel object\n",
    "model = NeuralNetwork().to(device)\n",
    "print(model)"
   ]
  },
  {
   "cell_type": "code",
   "execution_count": 5,
   "id": "df76700a-9ac1-420b-b111-3c9b2ed49d57",
   "metadata": {},
   "outputs": [
    {
     "name": "stdout",
     "output_type": "stream",
     "text": [
      "Predicted class: tensor([9])\n"
     ]
    }
   ],
   "source": [
    "X = torch.rand(1, 28, 28, device=device)   # generates some random data\n",
    "logits = model(X)                          # feed into the model, and call forweard() of the model\n",
    "                                           # never call forward() directly\n",
    "pred_probab = nn.Softmax(dim=1)(logits)\n",
    "y_pred = pred_probab.argmax(1)\n",
    "print(f\"Predicted class: {y_pred}\")"
   ]
  },
  {
   "cell_type": "code",
   "execution_count": 6,
   "id": "6bdd6069-558c-4eb3-b904-fbc92afd13fd",
   "metadata": {},
   "outputs": [
    {
     "name": "stdout",
     "output_type": "stream",
     "text": [
      "torch.Size([3, 28, 28])\n"
     ]
    }
   ],
   "source": [
    "# Let's analyze our model class with some generated random data\n",
    "input_image = torch.rand(3,28,28)\n",
    "print(input_image.size())"
   ]
  },
  {
   "cell_type": "code",
   "execution_count": 7,
   "id": "ef08172d-e898-426d-8f5c-da3bdff09bd6",
   "metadata": {},
   "outputs": [
    {
     "name": "stdout",
     "output_type": "stream",
     "text": [
      "torch.Size([3, 784])\n"
     ]
    }
   ],
   "source": [
    "# We initialize the nn.Flatten layer to convert each 2D 28x28 image into a contiguous array of 784 pixel values\n",
    "# ( the minibatch dimension (at dim=0) is maintained).\n",
    "flatten = nn.Flatten()\n",
    "flat_image = flatten(input_image)\n",
    "print(flat_image.size())"
   ]
  },
  {
   "cell_type": "code",
   "execution_count": 10,
   "id": "bc24cdb8-e516-451e-9777-f28988701d05",
   "metadata": {},
   "outputs": [
    {
     "name": "stdout",
     "output_type": "stream",
     "text": [
      "hidden size: torch.Size([3, 20])\n"
     ]
    }
   ],
   "source": [
    "# Linear: y = A * x + b, where x: 1D array of size 784, y: 1D array of size 20\n",
    "# layer1: 20 by 784 matrix\n",
    "layer1 = nn.Linear(in_features=28*28, out_features=20)\n",
    "hidden1 = layer1(flat_image)\n",
    "print(f\"hidden size: {hidden1.size()}\")"
   ]
  },
  {
   "cell_type": "code",
   "execution_count": 12,
   "id": "4caa420f-e241-4421-a773-39cda8ac0526",
   "metadata": {},
   "outputs": [
    {
     "name": "stdout",
     "output_type": "stream",
     "text": [
      "Before ReLU: hidden size: torch.Size([3, 20]), hidden: tensor([[0.0000, 0.0000, 0.0000, 0.1704, 0.0000, 0.0153, 0.5272, 0.1016, 0.0661,\n",
      "         1.0873, 0.4141, 0.0000, 0.0000, 0.0000, 0.0000, 0.6854, 0.6781, 0.0000,\n",
      "         0.3188, 0.0000],\n",
      "        [0.0761, 0.0000, 0.0390, 0.0000, 0.0000, 0.0708, 0.3741, 0.0879, 0.0000,\n",
      "         0.6531, 0.3642, 0.0000, 0.0000, 0.0000, 0.0000, 0.5215, 0.0522, 0.0000,\n",
      "         0.1258, 0.0000],\n",
      "        [0.0000, 0.0000, 0.0255, 0.0000, 0.0000, 0.4349, 0.2054, 0.0000, 0.0000,\n",
      "         0.7275, 0.0987, 0.0000, 0.0000, 0.0000, 0.0000, 0.6054, 0.6495, 0.0000,\n",
      "         0.1143, 0.0000]], grad_fn=<ReluBackward0>)\n",
      "\n",
      "\n",
      "After ReLU: hidden size: torch.Size([3, 20]), hidden: tensor([[0.0000, 0.0000, 0.0000, 0.1704, 0.0000, 0.0153, 0.5272, 0.1016, 0.0661,\n",
      "         1.0873, 0.4141, 0.0000, 0.0000, 0.0000, 0.0000, 0.6854, 0.6781, 0.0000,\n",
      "         0.3188, 0.0000],\n",
      "        [0.0761, 0.0000, 0.0390, 0.0000, 0.0000, 0.0708, 0.3741, 0.0879, 0.0000,\n",
      "         0.6531, 0.3642, 0.0000, 0.0000, 0.0000, 0.0000, 0.5215, 0.0522, 0.0000,\n",
      "         0.1258, 0.0000],\n",
      "        [0.0000, 0.0000, 0.0255, 0.0000, 0.0000, 0.4349, 0.2054, 0.0000, 0.0000,\n",
      "         0.7275, 0.0987, 0.0000, 0.0000, 0.0000, 0.0000, 0.6054, 0.6495, 0.0000,\n",
      "         0.1143, 0.0000]], grad_fn=<ReluBackward0>)\n"
     ]
    }
   ],
   "source": [
    "# nn.ReLU\n",
    "print(f\"Before ReLU: hidden size: {hidden1.size()}, hidden: {hidden1}\\n\\n\")\n",
    "hidden1 = nn.ReLU()(hidden1)\n",
    "print(f\"After ReLU: hidden size: {hidden1.size()}, hidden: {hidden1}\")"
   ]
  },
  {
   "cell_type": "code",
   "execution_count": 13,
   "id": "3159ffba-4d32-47bf-9ff9-3ddb1acd82b9",
   "metadata": {},
   "outputs": [],
   "source": [
    "# nn.Sequential\n",
    "seq_modules = nn.Sequential(\n",
    "    flatten,\n",
    "    layer1,\n",
    "    nn.ReLU(),\n",
    "    nn.Linear(20, 10)\n",
    ")\n",
    "input_image = torch.rand(3,28,28)\n",
    "logits = seq_modules(input_image)"
   ]
  },
  {
   "cell_type": "code",
   "execution_count": 14,
   "id": "fe9a845c-ff68-4302-a7bc-6de43c5e73ca",
   "metadata": {},
   "outputs": [],
   "source": [
    "# nn.Softmax\n",
    "softmax = nn.Softmax(dim=1)\n",
    "pred_probab = softmax(logits)"
   ]
  },
  {
   "cell_type": "code",
   "execution_count": 15,
   "id": "adc9c680-120b-4ccb-9326-99eee022c200",
   "metadata": {},
   "outputs": [
    {
     "name": "stdout",
     "output_type": "stream",
     "text": [
      "Model structure: NeuralNetwork(\n",
      "  (flatten): Flatten(start_dim=1, end_dim=-1)\n",
      "  (linear_relu_stack): Sequential(\n",
      "    (0): Linear(in_features=784, out_features=512, bias=True)\n",
      "    (1): ReLU()\n",
      "    (2): Linear(in_features=512, out_features=512, bias=True)\n",
      "    (3): ReLU()\n",
      "    (4): Linear(in_features=512, out_features=10, bias=True)\n",
      "  )\n",
      ")\n",
      "\n",
      "\n",
      "Layer: linear_relu_stack.0.weight | Size: torch.Size([512, 784]) | Values : tensor([[-0.0183, -0.0304, -0.0154,  ..., -0.0049,  0.0189,  0.0348],\n",
      "        [-0.0021,  0.0325, -0.0170,  ...,  0.0152, -0.0195, -0.0076]],\n",
      "       grad_fn=<SliceBackward0>) \n",
      "\n",
      "Layer: linear_relu_stack.0.bias | Size: torch.Size([512]) | Values : tensor([ 0.0329, -0.0347], grad_fn=<SliceBackward0>) \n",
      "\n",
      "Layer: linear_relu_stack.2.weight | Size: torch.Size([512, 512]) | Values : tensor([[-0.0319, -0.0338, -0.0267,  ...,  0.0176,  0.0143, -0.0148],\n",
      "        [-0.0302,  0.0220, -0.0204,  ..., -0.0332,  0.0365,  0.0218]],\n",
      "       grad_fn=<SliceBackward0>) \n",
      "\n",
      "Layer: linear_relu_stack.2.bias | Size: torch.Size([512]) | Values : tensor([0.0406, 0.0031], grad_fn=<SliceBackward0>) \n",
      "\n",
      "Layer: linear_relu_stack.4.weight | Size: torch.Size([10, 512]) | Values : tensor([[ 0.0115, -0.0209, -0.0202,  ..., -0.0084,  0.0334,  0.0374],\n",
      "        [-0.0288,  0.0288,  0.0352,  ...,  0.0036, -0.0122,  0.0361]],\n",
      "       grad_fn=<SliceBackward0>) \n",
      "\n",
      "Layer: linear_relu_stack.4.bias | Size: torch.Size([10]) | Values : tensor([ 0.0101, -0.0048], grad_fn=<SliceBackward0>) \n",
      "\n"
     ]
    }
   ],
   "source": [
    "# model parameters\n",
    "print(f\"Model structure: {model}\\n\\n\")\n",
    "\n",
    "for name, param in model.named_parameters():\n",
    "    print(f\"Layer: {name} | Size: {param.size()} | Values : {param[:2]} \\n\")"
   ]
  },
  {
   "cell_type": "code",
   "execution_count": null,
   "id": "a787f85c-3616-4035-ba4f-f335c3ae5ef1",
   "metadata": {},
   "outputs": [],
   "source": []
  }
 ],
 "metadata": {
  "kernelspec": {
   "display_name": "Python 3 (ipykernel)",
   "language": "python",
   "name": "python3"
  },
  "language_info": {
   "codemirror_mode": {
    "name": "ipython",
    "version": 3
   },
   "file_extension": ".py",
   "mimetype": "text/x-python",
   "name": "python",
   "nbconvert_exporter": "python",
   "pygments_lexer": "ipython3",
   "version": "3.13.2"
  }
 },
 "nbformat": 4,
 "nbformat_minor": 5
}
