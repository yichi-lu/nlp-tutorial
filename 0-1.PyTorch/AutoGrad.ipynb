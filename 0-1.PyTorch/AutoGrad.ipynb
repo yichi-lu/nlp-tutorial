{
 "cells": [
  {
   "cell_type": "markdown",
   "id": "361b3c12-0e07-411e-8e51-fe6ce4a6e4a0",
   "metadata": {},
   "source": [
    "[Auto Grad](https://pytorch.org/tutorials/beginner/basics/autogradqs_tutorial.html)"
   ]
  },
  {
   "cell_type": "code",
   "execution_count": 1,
   "id": "1d38c8d5-106d-4a76-bf04-040e8e3ec88f",
   "metadata": {},
   "outputs": [],
   "source": [
    "import torch\n",
    "\n",
    "x = torch.ones(5)  # input tensor, a vector of size of 5\n",
    "y = torch.zeros(3)  # expected output, a vector of size of 3\n",
    "w = torch.randn(5, 3, requires_grad=True)\n",
    "b = torch.randn(3, requires_grad=True)\n",
    "z = torch.matmul(x, w) + b\n",
    "loss = torch.nn.functional.binary_cross_entropy_with_logits(z, y)"
   ]
  },
  {
   "cell_type": "code",
   "execution_count": 3,
   "id": "18e8d2e3-14d5-4ed8-96af-e80c935f3ff9",
   "metadata": {},
   "outputs": [
    {
     "name": "stdout",
     "output_type": "stream",
     "text": [
      "Gradient function for z = <AddBackward0 object at 0x0000018666F72410>\n",
      "Gradient function for loss = <BinaryCrossEntropyWithLogitsBackward0 object at 0x0000018666F72410>\n"
     ]
    }
   ],
   "source": [
    "# A function that we apply to tensors to construct computational graph is in fact an object of class Function.\n",
    "# This object knows how to compute the function in the forward direction,\n",
    "# and also how to compute its derivative during the backward propagation step.\n",
    "print(f\"Gradient function for z = {z.grad_fn}\")\n",
    "print(f\"Gradient function for loss = {loss.grad_fn}\")"
   ]
  },
  {
   "cell_type": "code",
   "execution_count": 4,
   "id": "a4b48817-f2a0-4e7b-8c0d-45819a597cdc",
   "metadata": {},
   "outputs": [
    {
     "name": "stdout",
     "output_type": "stream",
     "text": [
      "tensor([[0.0068, 0.1420, 0.2116],\n",
      "        [0.0068, 0.1420, 0.2116],\n",
      "        [0.0068, 0.1420, 0.2116],\n",
      "        [0.0068, 0.1420, 0.2116],\n",
      "        [0.0068, 0.1420, 0.2116]])\n",
      "tensor([0.0068, 0.1420, 0.2116])\n"
     ]
    }
   ],
   "source": [
    "# computing gradients\n",
    "loss.backward()\n",
    "print(w.grad)\n",
    "print(b.grad)"
   ]
  },
  {
   "cell_type": "code",
   "execution_count": 6,
   "id": "222ce586-39f6-4565-97bb-b81fb90dbda2",
   "metadata": {},
   "outputs": [
    {
     "name": "stdout",
     "output_type": "stream",
     "text": [
      "True\n",
      "False\n"
     ]
    }
   ],
   "source": [
    "# disabling gradient tracking\n",
    "z = torch.matmul(x, w) + b\n",
    "print(z.requires_grad)\n",
    "\n",
    "with torch.no_grad():\n",
    "    z = torch.matmul(x, w) + b\n",
    "print(z.requires_grad)"
   ]
  },
  {
   "cell_type": "code",
   "execution_count": 7,
   "id": "68de0d90-c9dc-4693-a8ea-923fa1732dc1",
   "metadata": {},
   "outputs": [
    {
     "name": "stdout",
     "output_type": "stream",
     "text": [
      "False\n"
     ]
    }
   ],
   "source": [
    "# using detach to disabling gradient tracking\n",
    "z = torch.matmul(x, w) + b\n",
    "z_det = z.detach()\n",
    "print(z_det.requires_grad)"
   ]
  },
  {
   "cell_type": "code",
   "execution_count": null,
   "id": "25012132-befa-44e2-b9f6-c1ee4359226d",
   "metadata": {},
   "outputs": [],
   "source": []
  }
 ],
 "metadata": {
  "kernelspec": {
   "display_name": "Python 3 (ipykernel)",
   "language": "python",
   "name": "python3"
  },
  "language_info": {
   "codemirror_mode": {
    "name": "ipython",
    "version": 3
   },
   "file_extension": ".py",
   "mimetype": "text/x-python",
   "name": "python",
   "nbconvert_exporter": "python",
   "pygments_lexer": "ipython3",
   "version": "3.13.2"
  }
 },
 "nbformat": 4,
 "nbformat_minor": 5
}
